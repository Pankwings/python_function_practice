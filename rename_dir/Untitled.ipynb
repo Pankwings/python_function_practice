{
 "cells": [
  {
   "cell_type": "code",
   "execution_count": 4,
   "metadata": {},
   "outputs": [
    {
     "name": "stdout",
     "output_type": "stream",
     "text": [
      "TEK0052.JPG\n",
      "TEK0053.JPG\n",
      "TEK0054.JPG\n",
      "TEK0055.JPG\n",
      "TEK0056.JPG\n",
      "TEK0057.JPG\n",
      "hero\n"
     ]
    }
   ],
   "source": [
    "from os.path import exists # [For reference] https://github.com/kimlew/python-rename-files/blob/master/rename_files.py\n",
    "from os import walk\n",
    "location = \"/home/pankaj/s_meet/python_practice/data_folder/Amplifier_output_images/Amplifier_output_with_bias_Tee/Bias_50V/programing_data\"\n",
    "\n",
    "if exists(location) is False:\n",
    "    print(\"Invalid Directory\")\n",
    "\n",
    "#print(location)\n",
    "for (dirpath, _, filenames) in walk(location):\n",
    "#    print(dirpath)\n",
    "#    print(_)\n",
    "#    print(filenames)\n",
    "    filenames_ = sorted(filenames)\n",
    "    for a_filename in filenames_:\n",
    "        print(a_filename)\n"
   ]
  },
  {
   "cell_type": "code",
   "execution_count": null,
   "metadata": {},
   "outputs": [
    {
     "name": "stdout",
     "output_type": "stream",
     "text": [
      "Enter new name for  TEK0058.JPG \n",
      "(to skeep type 'no' or 'n' to stop type 'stop' or 's')\n"
     ]
    }
   ],
   "source": [
    "import os\n",
    "from os import walk\n",
    "from os import path\n",
    "import string as str\n",
    "location = \"/home/pankaj/s_meet/python_practice/data_folder/Amplifier_output_images/Amplifier_output_with_bias_Tee/Bias_50V/programing_data\"\n",
    "\n",
    "for (dirpath, _, filenames_) in walk(location):\n",
    "    sorted_filenames = sorted(filenames_)\n",
    "    for name in sorted_filenames:\n",
    "        print(\"Enter new name for \",name, \"\\n(to skeep type 'no' or 'n' to stop type 'stop' or 's')\" )\n",
    "        new_name = input()\n",
    "#         if new_name.lower() == 's' or 'stop':\n",
    "#             break\n",
    "        if new_name.lower() == 'n' or 'no':\n",
    "            continue\n",
    "        new_name = name.split('.')[0] + new_name + \".jpg\"\n",
    "        src = path.join(location, name)\n",
    "        dst = path.join(location, new_name)\n",
    "        os.rename(src, dst)\n",
    "    \n"
   ]
  },
  {
   "cell_type": "code",
   "execution_count": null,
   "metadata": {},
   "outputs": [],
   "source": []
  },
  {
   "cell_type": "code",
   "execution_count": null,
   "metadata": {},
   "outputs": [],
   "source": []
  }
 ],
 "metadata": {
  "kernelspec": {
   "display_name": "Python 3",
   "language": "python",
   "name": "python3"
  },
  "language_info": {
   "codemirror_mode": {
    "name": "ipython",
    "version": 3
   },
   "file_extension": ".py",
   "mimetype": "text/x-python",
   "name": "python",
   "nbconvert_exporter": "python",
   "pygments_lexer": "ipython3",
   "version": "3.8.10"
  }
 },
 "nbformat": 4,
 "nbformat_minor": 4
}
