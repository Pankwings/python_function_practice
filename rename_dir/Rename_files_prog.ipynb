{
 "cells": [
  {
   "cell_type": "code",
   "execution_count": 2,
   "metadata": {},
   "outputs": [
    {
     "name": "stdout",
     "output_type": "stream",
     "text": [
      "Enter target directory name: \n",
      "Does not match target directory    skiping...\n",
      "Does not match target directory    skiping...\n"
     ]
    }
   ],
   "source": [
    "import os\n",
    "from os import walk\n",
    "from os import path\n",
    "import string as str\n",
    "location = os.getcwd() # Directory \n",
    "target_dir = input(\"Enter target directory name: \")\n",
    "for [location_,_,file_names] in walk(location):\n",
    "    if path.basename(location_) != target_dir:\n",
    "        print(\"Does not match target directory \",target_dir,\" skiping...\")\n",
    "        continue\n",
    "\n",
    "    names = sorted(file_names)\n",
    "    for name in names:\n",
    "        print(\"Enter new name for \",name, \"\\n(to skeep type 'no' or 'n' to stop type 'stop' or 's')\")\n",
    "        new_name = input()\n",
    "        if new_name.lower() == 'n' or new_name.lower() == 'no':\n",
    "            continue\n",
    "        if new_name.lower() == 's' or new_name.lower() == 'stop':\n",
    "            break\n",
    "        new_name = name.split('.')[0] + new_name + \".jpg\"\n",
    "        src = path.join(location, name)\n",
    "        dst = path.join(location, new_name)\n",
    "#         os.rename(src, dst)"
   ]
  },
  {
   "cell_type": "code",
   "execution_count": null,
   "metadata": {},
   "outputs": [],
   "source": []
  },
  {
   "cell_type": "code",
   "execution_count": null,
   "metadata": {},
   "outputs": [],
   "source": []
  }
 ],
 "metadata": {
  "interpreter": {
   "hash": "8c3dba31e6a22ef9e27a8ac21fe82db1ecf70c3366abda9ab4406879cdbc6c81"
  },
  "kernelspec": {
   "display_name": "Python 3",
   "language": "python",
   "name": "python3"
  },
  "language_info": {
   "codemirror_mode": {
    "name": "ipython",
    "version": 3
   },
   "file_extension": ".py",
   "mimetype": "text/x-python",
   "name": "python",
   "nbconvert_exporter": "python",
   "pygments_lexer": "ipython3",
   "version": "3.8.5"
  }
 },
 "nbformat": 4,
 "nbformat_minor": 4
}
