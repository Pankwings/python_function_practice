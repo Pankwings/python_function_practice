{
 "cells": [
  {
   "cell_type": "code",
   "execution_count": null,
   "metadata": {},
   "outputs": [],
   "source": []
  },
  {
   "cell_type": "code",
   "execution_count": null,
   "metadata": {},
   "outputs": [],
   "source": []
  },
  {
   "cell_type": "code",
   "execution_count": 16,
   "metadata": {},
   "outputs": [
    {
     "name": "stdout",
     "output_type": "stream",
     "text": [
      "Enter target directory name: rename_dir\n",
      "Enter new name for  Untitled.ipynb \n",
      "(to skeep type 'no' or 'n' to stop type 'stop' or 's')\n",
      "s\n",
      "location  /home/pankaj/s_meet/python_practice/function_python/rename_dir/.ipynb_checkpoints  does not match target directory  rename_dir  skiping...\n"
     ]
    }
   ],
   "source": [
    "import os\n",
    "from os import walk\n",
    "from os import path\n",
    "import string as str\n",
    "#location = \"/home/pankaj/s_meet/python_practice/data_folder/Amplifier_output_images/Amplifier_output_with_bias_Tee/Bias_50V/programing_data\"\n",
    "location = os.getcwd()\n",
    "target_dir = input(\"Enter target directory name: \")\n",
    "for [location_,_,file_names] in walk(location):\n",
    "    if path.basename(location_) != target_dir:\n",
    "        print(\"location \", location_,\" does not match target directory \",target_dir,\" skiping...\")\n",
    "        continue\n",
    "\n",
    "    names = sorted(file_names)\n",
    "    for name in names:\n",
    "        print(\"Enter new name for \",name, \"\\n(to skeep type 'no' or 'n' to stop type 'stop' or 's')\")\n",
    "        new_name = input()\n",
    "        if new_name.lower() == 'n' or new_name.lower() == 'no':\n",
    "            continue\n",
    "        if new_name.lower() == 's' or new_name.lower() == 'stop':\n",
    "            break\n",
    "        new_name = name.split('.')[0] + new_name + \".jpg\"\n",
    "        src = path.join(location, name)\n",
    "        dst = path.join(location, new_name)\n",
    "#         os.rename(src, dst)"
   ]
  },
  {
   "cell_type": "code",
   "execution_count": 20,
   "metadata": {},
   "outputs": [
    {
     "name": "stdout",
     "output_type": "stream",
     "text": [
      "test\n"
     ]
    }
   ],
   "source": []
  }
 ],
 "metadata": {
  "interpreter": {
   "hash": "8c3dba31e6a22ef9e27a8ac21fe82db1ecf70c3366abda9ab4406879cdbc6c81"
  },
  "kernelspec": {
   "display_name": "Python 3",
   "language": "python",
   "name": "python3"
  },
  "language_info": {
   "codemirror_mode": {
    "name": "ipython",
    "version": 3
   },
   "file_extension": ".py",
   "mimetype": "text/x-python",
   "name": "python",
   "nbconvert_exporter": "python",
   "pygments_lexer": "ipython3",
   "version": "3.8.5"
  }
 },
 "nbformat": 4,
 "nbformat_minor": 4
}
