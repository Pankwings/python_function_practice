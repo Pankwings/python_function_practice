{
 "cells": [
  {
   "cell_type": "markdown",
   "metadata": {},
   "source": [
    "#### Numpy tutoral - introduction"
   ]
  },
  {
   "cell_type": "code",
   "execution_count": 10,
   "metadata": {},
   "outputs": [
    {
     "name": "stdout",
     "output_type": "stream",
     "text": [
      "[1 2 3 4 5 6 7 8] <class 'numpy.ndarray'>\n",
      "[1 2 3 4 5 6 7 8] <class 'numpy.ndarray'>\n"
     ]
    }
   ],
   "source": [
    "import numpy as np\n",
    "a = np.array([1, 2, 3, 4, 5, 6, 7, 8]) # saving the data in 'list'; It is very similar to list.\n",
    "print(a, type(a))\n",
    "b = np.arange(1,9)\n",
    "print(b, type(b))\n",
    "'''\n",
    "Advantage of array over list;\n",
    "1. Fast \n",
    "2. Convinient\n",
    "3. Less memory\n",
    "'''\n"
   ]
  },
  {
   "cell_type": "code",
   "execution_count": 33,
   "metadata": {},
   "outputs": [
    {
     "name": "stdout",
     "output_type": "stream",
     "text": [
      "Size in terms of list :  28000\n",
      "Size in terms of array :  8000\n"
     ]
    }
   ],
   "source": [
    "### Rough comparision of numpy array with python list: In terms of size\n",
    "import sys\n",
    "import numpy as np\n",
    "\n",
    "l = range(1000)\n",
    "print(\"Size in terms of list : \",sys.getsizeof(1)*len(l))\n",
    "#sys.getsizeof(2)\n",
    "\n",
    "array = np.arange(1000)\n",
    "print(\"Size in terms of array : \",array.size*array.itemsize)\n"
   ]
  },
  {
   "cell_type": "code",
   "execution_count": 98,
   "metadata": {},
   "outputs": [
    {
     "name": "stdout",
     "output_type": "stream",
     "text": [
      "python list took:  835.3466987609863 mSec\n",
      "numpy took:  122.57742881774902 mSec\n",
      "[5 7 9]\n",
      "[-3 -3 -3]\n"
     ]
    }
   ],
   "source": [
    "### Rough comparision of numpy array with python list: In terms of convinient to use\n",
    "### numpy is easy to handle/use and faster\n",
    "import time\n",
    "import numpy as np\n",
    "\n",
    "size = 10000000\n",
    "l1 = range(size)\n",
    "l2 = range(size)\n",
    "\n",
    "a1 = np.arange(size)\n",
    "a2 = np.arange(size)\n",
    "\n",
    "# python list\n",
    "start = time.time()\n",
    "result = [(x+y) for x,y in zip(l1,l2)]\n",
    "print(\"python list took: \", (time.time()-start)*1000,\"mSec\")\n",
    "\n",
    "# numpy array\n",
    "start = time.time()\n",
    "result = a1 + a2\n",
    "print(\"numpy took: \", (time.time()-start)*1000,\"mSec\")\n",
    "\n",
    "#Easy addition and subtraction\n",
    "a1 = np.array([1,2,3])\n",
    "a2 = np.array([4,5,6])\n",
    "print(a1+a2)\n",
    "print(a1-a2)"
   ]
  },
  {
   "cell_type": "code",
   "execution_count": 96,
   "metadata": {},
   "outputs": [
    {
     "name": "stdout",
     "output_type": "stream",
     "text": [
      "[5 7 9]\n",
      "[-3 -3 -3]\n"
     ]
    }
   ],
   "source": []
  },
  {
   "cell_type": "markdown",
   "metadata": {},
   "source": [
    "---"
   ]
  },
  {
   "cell_type": "code",
   "execution_count": 22,
   "metadata": {},
   "outputs": [
    {
     "data": {
      "text/plain": [
       "'\\nTo test the specific function in terminal:\\n$ pytest -k mul      #\"mul\" or any half name will work. If some part of the name matches it will test that file.\\n$ pytest -v -rxs     #\\n'"
      ]
     },
     "execution_count": 22,
     "metadata": {},
     "output_type": "execute_result"
    }
   ],
   "source": [
    "#### Python unit testing - Skip/Selectively run tests in pytest.\n",
    "#### This program won't work in jupyter-notebook\n",
    "#### Save it in .py format.\n",
    "\n",
    "\n",
    "import codebasic\n",
    "import pytest\n",
    "import sys\n",
    "\n",
    "#@pytest.mark.skip(reason=\"I don't want to run this function for the moment\")\n",
    "# The program below the \".skip()\" will get skipped.\n",
    "def test_cal_total():\n",
    "    total = codebasic.cal_total(6,7)\n",
    "    assert total == 13\n",
    "\n",
    "#@pytest.mark.skipif(sys.version_info < (3,5),reason=\"I don't want to run this function for the moment\")    \n",
    "# If the version of the python is < 3.5, then skip the \"test_cal_mul()\" \n",
    "def test_cal_mul():\n",
    "    result = codebasic.cal_mul(10,3)\n",
    "    assert result == 30\n",
    "\n",
    "'''\n",
    "To test the specific function in terminal:\n",
    "$ pytest -k mul      #\"mul\" or any half name will work. If some part of the name matches it will test that file.\n",
    "$ pytest -v -rxs     #\n",
    "'''"
   ]
  },
  {
   "cell_type": "markdown",
   "metadata": {},
   "source": [
    "#### Python unit testing - skip test, Selectively run tests using their name, Custom markers "
   ]
  },
  {
   "cell_type": "markdown",
   "metadata": {},
   "source": [
    "#### [The test code is not running from Jupyter-notebook.](https://www.youtube.com/watch?v=nv9zw454bEk&list=PLeo1K3hjS3uv5U-Lmlnucd7gqF-3ehIh0&index=36)\n"
   ]
  },
  {
   "cell_type": "markdown",
   "metadata": {},
   "source": [
    "#### Working with test program"
   ]
  },
  {
   "cell_type": "code",
   "execution_count": null,
   "metadata": {},
   "outputs": [],
   "source": [
    "### The file name and function name in \n",
    "### test program must have 'test_' prefix \n",
    "### as the file name.\n",
    "\n",
    "### Python unit testing - pytest introduction.\n",
    "\n",
    "import codebasic as mathlib\n",
    "\n",
    "#import practice_program.ipynb as mathlib\n",
    "\n",
    "def test_cal_total():\n",
    "    total = mathlib.cal_total(4,5)\n",
    "    assert total == 9\n",
    "\n",
    "def test_cal_mul():\n",
    "    result = mathlib.cal_mul(10,3)\n",
    "    assert result == 30\n",
    "   \n"
   ]
  },
  {
   "cell_type": "code",
   "execution_count": null,
   "metadata": {},
   "outputs": [],
   "source": [
    "#### Program to be tested.\n",
    "\n",
    "def cal_total(a,b):\n",
    "    return(a+b)\n",
    "\n",
    "def cal_mul(a,b):\n",
    "    return(a*b)"
   ]
  },
  {
   "cell_type": "markdown",
   "metadata": {},
   "source": [
    "#### Multiprocessing with pool."
   ]
  },
  {
   "cell_type": "code",
   "execution_count": 2,
   "metadata": {},
   "outputs": [
    {
     "name": "stdout",
     "output_type": "stream",
     "text": [
      "Pool of multiprocess :  2.6074368953704834\n",
      "without pool :  9.610133647918701\n"
     ]
    }
   ],
   "source": [
    "### Little intense from the previous one.\n",
    "### Multiprocessing using pool to use maximum available\n",
    "### core of the system.\n",
    "\n",
    "from multiprocessing import Pool\n",
    "import time\n",
    "\n",
    "def cal_square(numbers):\n",
    "    sum = 0\n",
    "    for i in range(10000):\n",
    "        sum+=i*i\n",
    "        \n",
    "    return sum\n",
    "if __name__ == \"__main__\":\n",
    "    \n",
    "    p = Pool()\n",
    "    t1 = time.time()\n",
    "    sum_result = p.map(cal_square, range(10000))\n",
    "    p.close()\n",
    "    p.join()\n",
    "    \n",
    "    print(\"Pool of multiprocess : \", time.time()-t1)\n",
    "    \n",
    "    t2 = time.time()\n",
    "    sum_result2 = []\n",
    "    for i in range(10000):\n",
    "        sum_result2.append(cal_square(i))\n",
    "    \n",
    "    print(\"without pool : \", time.time()-t2)"
   ]
  },
  {
   "cell_type": "code",
   "execution_count": 12,
   "metadata": {},
   "outputs": [
    {
     "name": "stdout",
     "output_type": "stream",
     "text": [
      "[4, 9, 16, 49]\n"
     ]
    }
   ],
   "source": [
    "### Simple test Pool program.\n",
    "from multiprocessing import Pool\n",
    "import time\n",
    "\n",
    "def f(n):\n",
    "    return n*n\n",
    "\n",
    "if __name__ == \"__main__\":\n",
    "    arr = [2, 3, 4, 7]\n",
    "    p = Pool()\n",
    "    result = p.map(f, arr)\n",
    "    print(result)"
   ]
  },
  {
   "cell_type": "markdown",
   "metadata": {},
   "source": [
    "#### Function within class:\n",
    "Working lock in multiprocess with class and function."
   ]
  },
  {
   "cell_type": "code",
   "execution_count": 13,
   "metadata": {},
   "outputs": [
    {
     "name": "stdout",
     "output_type": "stream",
     "text": [
      "Final Balance [with lock] :  200\n",
      "Final Balance [without Lock] :  202\n",
      "Final Balance [with lock] :  200\n",
      "Final Balance [without Lock] :  214\n",
      "Final Balance [with lock] :  200\n",
      "Final Balance [without Lock] :  206\n",
      "Final Balance [with lock] :  200\n",
      "Final Balance [without Lock] :  200\n",
      "Final Balance [with lock] :  200\n",
      "Final Balance [without Lock] :  200\n"
     ]
    }
   ],
   "source": [
    "import multiprocessing\n",
    "import time\n",
    "\n",
    "class with_lock:\n",
    "    def deposit(balance, lock):\n",
    "        for i in range(100):\n",
    "            time.sleep(0.01)\n",
    "            lock.acquire()\n",
    "            balance.value +=1\n",
    "            lock.release()\n",
    "    \n",
    "    def withdraw(balance, lock):\n",
    "        for i in range(100):\n",
    "            time.sleep(0.01)\n",
    "            lock.acquire()\n",
    "            balance.value-=1\n",
    "            lock.release()\n",
    "\n",
    "class without_lock:\n",
    "    def deposit(balance, lock):\n",
    "        for i in range(100):\n",
    "            time.sleep(0.01)\n",
    "            balance.value+=1\n",
    "            \n",
    "    def withdraw(balance, lock):\n",
    "        for i in range(100):\n",
    "            time.sleep(0.01)\n",
    "            balance.value-=1\n",
    "            \n",
    "    \n",
    "            \n",
    "            \n",
    "if __name__ == \"__main__\":\n",
    "    for i in range(5):\n",
    "        balance = multiprocessing.Value('i', 200)\n",
    "        lock = multiprocessing.Lock()\n",
    "        d_lock = multiprocessing.Process(target=with_lock.deposit, args=(balance, lock))\n",
    "        w_lock = multiprocessing.Process(target=with_lock.withdraw, args=(balance, lock))\n",
    "        d_lock.start()\n",
    "        w_lock.start()\n",
    "        d_lock.join()\n",
    "        w_lock.join()\n",
    "        print(\"Final Balance [with lock] : \", balance.value)\n",
    "        balance = multiprocessing.Value('i', 200)\n",
    "        d = multiprocessing.Process(target=without_lock.deposit, args=(balance, lock))\n",
    "        w = multiprocessing.Process(target=without_lock.withdraw, args=(balance,lock))\n",
    "        d.start()\n",
    "        w.start()\n",
    "        d.join()\n",
    "        w.join()\n",
    "        print(\"Final Balance [without Lock] : \", balance.value)\n"
   ]
  },
  {
   "cell_type": "markdown",
   "metadata": {},
   "source": [
    "#### Lock in multiprocessing"
   ]
  },
  {
   "cell_type": "code",
   "execution_count": 119,
   "metadata": {},
   "outputs": [
    {
     "name": "stdout",
     "output_type": "stream",
     "text": [
      "Final Balance [With Lock] 200\n"
     ]
    }
   ],
   "source": [
    "import multiprocessing\n",
    "import time\n",
    "\n",
    "def deposit(balance, lock):\n",
    "    for i in range(10):\n",
    "        time.sleep(0.01)\n",
    "        lock.acquire()\n",
    "        balance.value+=1\n",
    "        lock.release()\n",
    "def withdraw(balance, lock):\n",
    "    for i in range(10):\n",
    "        time.sleep(0.01)\n",
    "        lock.acquire()\n",
    "        balance.value-=1\n",
    "        lock.release()\n",
    "if __name__ == \"__main__\":\n",
    "    \n",
    "    balance = multiprocessing.Value('i',200)\n",
    "    lock = multiprocessing.Lock()\n",
    "    d = multiprocessing.Process(target=deposit, args=(balance,lock))\n",
    "    w = multiprocessing.Process(target=withdraw, args=(balance,lock))\n",
    "    d.start()\n",
    "    w.start()\n",
    "    d.join()\n",
    "    w.join()\n",
    "    print(\"Final Balance [With Lock]\", balance.value)\n",
    "        "
   ]
  },
  {
   "cell_type": "code",
   "execution_count": 32,
   "metadata": {},
   "outputs": [
    {
     "name": "stdout",
     "output_type": "stream",
     "text": [
      "India\n",
      "Final Balance [Without Lock]: 202\n"
     ]
    }
   ],
   "source": [
    "import multiprocessing\n",
    "import time\n",
    "\n",
    "def deposit(balance):\n",
    "   \n",
    "    for i in range(100):\n",
    "        time.sleep(0.001)\n",
    "    \n",
    "        balance.value+=1\n",
    "       \n",
    "        \n",
    "def widthral(balance):\n",
    "    \n",
    "    for i in range(100):\n",
    "        time.sleep(0.001)\n",
    "        \n",
    "        balance.value-=1\n",
    "        \n",
    "        \n",
    "if __name__ == \"__main__\":\n",
    "    print(\"India\")\n",
    "    balance = multiprocessing.Value('i', 200)\n",
    "    #lock = multiprocessing.Lock()\n",
    "    q = multiprocessing.Queue()\n",
    "    p1 = multiprocessing.Process(target=deposit, args=(balance,))\n",
    "    p2 = multiprocessing.Process(target=widthral, args=(balance,))\n",
    "    p1.start()\n",
    "    p2.start()\n",
    "    p1.join()\n",
    "    p2.join()\n",
    "    \n",
    "    print(\"Final Balance [Without Lock]:\", balance.value)"
   ]
  },
  {
   "cell_type": "markdown",
   "metadata": {},
   "source": [
    "#### Using queue in multiprocessing"
   ]
  },
  {
   "cell_type": "code",
   "execution_count": 20,
   "metadata": {},
   "outputs": [
    {
     "name": "stdout",
     "output_type": "stream",
     "text": [
      "Sharing data between processes using Queue :\n",
      "1\n",
      "9\n",
      "16\n",
      "25\n"
     ]
    }
   ],
   "source": [
    "import multiprocessing\n",
    "\n",
    "def cal_square(numbers, q):\n",
    "    for n in numbers:\n",
    "        q.put(n**2)\n",
    "\n",
    "if __name__ == \"__main__\":\n",
    "    arr = [1, 3, 4, 5]\n",
    "    q = multiprocessing.Queue()\n",
    "    p1 = multiprocessing.Process(target=cal_square, args=(arr, q))\n",
    "    p1.start()\n",
    "    p1.join()\n",
    "    print('Sharing data between processes using Queue :')\n",
    "    while not q.empty():\n",
    "        print(q.get())"
   ]
  },
  {
   "cell_type": "markdown",
   "metadata": {},
   "source": [
    "#### Difference between multithreading and multiprocessing"
   ]
  },
  {
   "cell_type": "code",
   "execution_count": 51,
   "metadata": {},
   "outputs": [
    {
     "name": "stdout",
     "output_type": "stream",
     "text": [
      "Square : 1\n",
      "Square : 4\n",
      "Square : 9\n",
      "Square : 16\n",
      "Square_result : [1, 4, 9, 16]\n",
      "\n",
      "Result outside the function :  []\n"
     ]
    }
   ],
   "source": [
    "# Multiprocessing generated separate process that can be seen in \n",
    "# the task manager where as multithreading don't.\n",
    "\n",
    "# In multiprocessing, global variable's data also get clear after\n",
    "# processing of the process unlike multithreading.\n",
    "\n",
    "import time\n",
    "import multiprocessing\n",
    "\n",
    "square_result = []\n",
    "def cal_square(numbers):\n",
    "    global square_result\n",
    "    for n in numbers:\n",
    "        time.sleep(0.2)\n",
    "        square_result.append(n**2)\n",
    "        print(\"Square : \"+str(n**2))\n",
    "    print(\"Square_result :\", square_result)    \n",
    "        \n",
    "if __name__ == \"__main__\":\n",
    "    t =  time.time()\n",
    "    p1 = multiprocessing.Process(target=cal_square, args=(arr,))\n",
    "    p1.start()\n",
    "    p1.join()\n",
    "    \n",
    "    print(\"\\nResult outside the function : \", square_result)\n",
    "    \n",
    "    '''Reason: Every process has its own address space (virtual memory).\n",
    "     Thus program variables are not shared between two processes.\n",
    "     You need to use interprocess communication (IPC)\n",
    "     techniques if you want to share data between two processes.'''"
   ]
  },
  {
   "cell_type": "markdown",
   "metadata": {},
   "source": [
    "#### Multiprocessing"
   ]
  },
  {
   "cell_type": "code",
   "execution_count": 41,
   "metadata": {},
   "outputs": [
    {
     "name": "stdout",
     "output_type": "stream",
     "text": [
      "Square : 1\n",
      "Square : 1\n",
      "Square : 4Square : 4\n",
      "\n",
      "Square : 9\n",
      "Square : 9\n",
      "Square : 16\n",
      "Square : 16\n",
      "Time :  0.8474338054656982\n"
     ]
    }
   ],
   "source": [
    "#Using multiprocessing using square and cube\n",
    "#source: codebasic; lecture 27\n",
    "\n",
    "import time\n",
    "import multiprocessing\n",
    "\n",
    "def cal_square(numbers):\n",
    "    for n in numbers:\n",
    "        time.sleep(0.2)\n",
    "        print('Square : '+ str(n**2))\n",
    "def cal_cube(numbers):\n",
    "    for n in numbers:\n",
    "        time.sleep(0.2)\n",
    "        print('Cube : ' + str(n**3))\n",
    "\n",
    "if __name__ == '__main__':\n",
    "    arr = [1, 2, 3, 4]\n",
    "    t = time.time()\n",
    "    p1 = multiprocessing.Process(target=cal_square, args=(arr,))\n",
    "    p2 = multiprocessing.Process(target=cal_square, args=(arr,))\n",
    "    p1.start()\n",
    "    p2.start()\n",
    "    p1.join() #join waits the process of execution till its over.\n",
    "    p2.join()\n",
    "    print(\"Time : \", time.time()-t)"
   ]
  },
  {
   "cell_type": "markdown",
   "metadata": {},
   "source": [
    "#### [Mutitreading Introduction](https://www.youtube.com/watch?v=PJ4t2U15ACo&list=PLeo1K3hjS3uv5U-Lmlnucd7gqF-3ehIh0&index=29)"
   ]
  },
  {
   "cell_type": "code",
   "execution_count": 23,
   "metadata": {},
   "outputs": [],
   "source": [
    "### threading and time"
   ]
  },
  {
   "cell_type": "code",
   "execution_count": 24,
   "metadata": {},
   "outputs": [
    {
     "name": "stdout",
     "output_type": "stream",
     "text": [
      "Square of a number\n",
      "Cube of a number\n",
      "Square : 1\n",
      "Cube : 1\n",
      "Square : 4\n",
      "Cube : 8\n",
      "Square : 9\n",
      "Cube : 27\n",
      "Square : 16\n",
      "Cube : 64\n",
      "Time taken :  0.8050744533538818\n"
     ]
    }
   ],
   "source": [
    "import time\n",
    "import threading\n",
    "\n",
    "def cal_square(numbers):\n",
    "    print(\"Square of a number\")\n",
    "    for n in numbers:\n",
    "        time.sleep(0.2)\n",
    "        print(\"Square :\", n**2)\n",
    "def cal_cube(numbers):\n",
    "    print(\"Cube of a number\")\n",
    "    for n in numbers:\n",
    "        time.sleep(0.2)\n",
    "        print(\"Cube :\", n**3)\n",
    "\n",
    "arr = [1, 2, 3, 4]\n",
    "\n",
    "t = time.time()\n",
    "\n",
    "t1 = threading.Thread(target=cal_square, args=(arr,))\n",
    "t2 = threading.Thread(target=cal_cube, args=(arr,))\n",
    "\n",
    "t1.start()\n",
    "t2.start()\n",
    "\n",
    "t1.join()\n",
    "t2.join()\n",
    "\n",
    "# cal_square(arr)\n",
    "# cal_cube(arr)\n",
    "\n",
    "print(\"Time taken : \",time.time()-t)"
   ]
  },
  {
   "cell_type": "markdown",
   "metadata": {},
   "source": [
    "---"
   ]
  },
  {
   "cell_type": "code",
   "execution_count": null,
   "metadata": {},
   "outputs": [],
   "source": [
    "import math as m\n",
    "\n",
    "def res_par(res,cap,freq):\n",
    "    curr = 100 * 10**-9\n",
    "    xc = 1/(2*m.pi*freq*cap)\n",
    "    reac = res*xc/(res+xc)\n",
    "    vo1 = reac * curr\n",
    "    vo2 = vo1*10\n",
    "#    res = (r*(1/2*m.pi*f*c))/(r+(1/2*m.pi*f*c))\n",
    "    print(\"For frequency of :\",freq,\" Hz\")\n",
    "    print(\"\\nParalled reactance = \",reac)\n",
    "    print(\"\\nCapacitive reactance = \",xc)\n",
    "    print(\"\\nVout of pre-amplifier = \",vo1)\n",
    "    print(\"\\nVout of second Stage amplifier = \",vo2)\n",
    "    print(\"-----------------------------------------------------------\\n\")\n",
    "\n",
    "#    return(0)"
   ]
  },
  {
   "cell_type": "code",
   "execution_count": 112,
   "metadata": {},
   "outputs": [
    {
     "name": "stdout",
     "output_type": "stream",
     "text": [
      "For frequency of : 100000  Hz\n",
      "\n",
      "Paralled reactance =  15433.852368902975\n",
      "\n",
      "Capacitive reactance =  15915.494309189537\n",
      "\n",
      "Vout of pre-amplifier =  0.0015433852368902977\n",
      "\n",
      "Vout of second Stage amplifier =  0.015433852368902977\n",
      "-----------------------------------------------------------\n",
      "\n",
      "For frequency of : 10000  Hz\n",
      "\n",
      "Paralled reactance =  121300.7866336865\n",
      "\n",
      "Capacitive reactance =  159154.94309189534\n",
      "\n",
      "Vout of pre-amplifier =  0.01213007866336865\n",
      "\n",
      "Vout of second Stage amplifier =  0.12130078663368651\n",
      "-----------------------------------------------------------\n",
      "\n",
      "For frequency of : 1000  Hz\n",
      "\n",
      "Paralled reactance =  386234.1745698244\n",
      "\n",
      "Capacitive reactance =  1591549.4309189534\n",
      "\n",
      "Vout of pre-amplifier =  0.038623417456982445\n",
      "\n",
      "Vout of second Stage amplifier =  0.38623417456982445\n",
      "-----------------------------------------------------------\n",
      "\n",
      "For frequency of : 100.0  Hz\n",
      "\n",
      "Paralled reactance =  494164.86011903564\n",
      "\n",
      "Capacitive reactance =  15915494.309189534\n",
      "\n",
      "Vout of pre-amplifier =  0.04941648601190357\n",
      "\n",
      "Vout of second Stage amplifier =  0.4941648601190357\n",
      "-----------------------------------------------------------\n",
      "\n",
      "For frequency of : 10.0  Hz\n",
      "\n",
      "Paralled reactance =  508370.9636256827\n",
      "\n",
      "Capacitive reactance =  159154943.09189534\n",
      "\n",
      "Vout of pre-amplifier =  0.05083709636256827\n",
      "\n",
      "Vout of second Stage amplifier =  0.5083709636256827\n",
      "-----------------------------------------------------------\n",
      "\n"
     ]
    }
   ],
   "source": [
    "res_par(res=510000,cap=(100*10**-12),freq=100000) # For frequency of 100kHz\n",
    "res_par(res=510000,cap=(100*10**-12),freq=10*10**3) # For frequency of 10kHz\n",
    "res_par(res=510000,cap=(100*10**-12),freq=1*10**3) # For frequency of 1kHz\n",
    "res_par(res=510000,cap=(100*10**-12),freq=0.1*10**3) # For frequency of 0.1kHz\n",
    "res_par(res=510000,cap=(100*10**-12),freq=0.01*10**3) # For frequency of 0.01kHz"
   ]
  },
  {
   "cell_type": "code",
   "execution_count": 4,
   "metadata": {},
   "outputs": [
    {
     "ename": "ZeroDivisionError",
     "evalue": "float division by zero",
     "output_type": "error",
     "traceback": [
      "\u001b[0;31m---------------------------------------------------------------------------\u001b[0m",
      "\u001b[0;31mZeroDivisionError\u001b[0m                         Traceback (most recent call last)",
      "\u001b[0;32m<ipython-input-4-b77e5a30b1d8>\u001b[0m in \u001b[0;36m<module>\u001b[0;34m\u001b[0m\n\u001b[0;32m----> 1\u001b[0;31m \u001b[0mres_par\u001b[0m\u001b[0;34m(\u001b[0m\u001b[0mres\u001b[0m\u001b[0;34m=\u001b[0m\u001b[0;36m510000\u001b[0m\u001b[0;34m,\u001b[0m\u001b[0mcap\u001b[0m\u001b[0;34m=\u001b[0m\u001b[0;34m(\u001b[0m\u001b[0;36m100\u001b[0m\u001b[0;34m*\u001b[0m\u001b[0;36m10\u001b[0m\u001b[0;34m**\u001b[0m\u001b[0;34m-\u001b[0m\u001b[0;36m12\u001b[0m\u001b[0;34m)\u001b[0m\u001b[0;34m,\u001b[0m\u001b[0mfreq\u001b[0m\u001b[0;34m=\u001b[0m\u001b[0;36m0\u001b[0m\u001b[0;34m)\u001b[0m\u001b[0;34m\u001b[0m\u001b[0;34m\u001b[0m\u001b[0m\n\u001b[0m",
      "\u001b[0;32m<ipython-input-3-e1bf6c1de072>\u001b[0m in \u001b[0;36mres_par\u001b[0;34m(res, cap, freq)\u001b[0m\n\u001b[1;32m      3\u001b[0m \u001b[0;32mdef\u001b[0m \u001b[0mres_par\u001b[0m\u001b[0;34m(\u001b[0m\u001b[0mres\u001b[0m\u001b[0;34m,\u001b[0m\u001b[0mcap\u001b[0m\u001b[0;34m,\u001b[0m\u001b[0mfreq\u001b[0m\u001b[0;34m)\u001b[0m\u001b[0;34m:\u001b[0m\u001b[0;34m\u001b[0m\u001b[0;34m\u001b[0m\u001b[0m\n\u001b[1;32m      4\u001b[0m     \u001b[0mcurr\u001b[0m \u001b[0;34m=\u001b[0m \u001b[0;36m100\u001b[0m \u001b[0;34m*\u001b[0m \u001b[0;36m10\u001b[0m\u001b[0;34m**\u001b[0m\u001b[0;34m-\u001b[0m\u001b[0;36m9\u001b[0m\u001b[0;34m\u001b[0m\u001b[0;34m\u001b[0m\u001b[0m\n\u001b[0;32m----> 5\u001b[0;31m     \u001b[0mxc\u001b[0m \u001b[0;34m=\u001b[0m \u001b[0;36m1\u001b[0m\u001b[0;34m/\u001b[0m\u001b[0;34m(\u001b[0m\u001b[0;36m2\u001b[0m\u001b[0;34m*\u001b[0m\u001b[0mm\u001b[0m\u001b[0;34m.\u001b[0m\u001b[0mpi\u001b[0m\u001b[0;34m*\u001b[0m\u001b[0mfreq\u001b[0m\u001b[0;34m*\u001b[0m\u001b[0mcap\u001b[0m\u001b[0;34m)\u001b[0m\u001b[0;34m\u001b[0m\u001b[0;34m\u001b[0m\u001b[0m\n\u001b[0m\u001b[1;32m      6\u001b[0m     \u001b[0mreac\u001b[0m \u001b[0;34m=\u001b[0m \u001b[0mres\u001b[0m\u001b[0;34m*\u001b[0m\u001b[0mxc\u001b[0m\u001b[0;34m/\u001b[0m\u001b[0;34m(\u001b[0m\u001b[0mres\u001b[0m\u001b[0;34m+\u001b[0m\u001b[0mxc\u001b[0m\u001b[0;34m)\u001b[0m\u001b[0;34m\u001b[0m\u001b[0;34m\u001b[0m\u001b[0m\n\u001b[1;32m      7\u001b[0m     \u001b[0mvo1\u001b[0m \u001b[0;34m=\u001b[0m \u001b[0mreac\u001b[0m \u001b[0;34m*\u001b[0m \u001b[0mcurr\u001b[0m\u001b[0;34m\u001b[0m\u001b[0;34m\u001b[0m\u001b[0m\n",
      "\u001b[0;31mZeroDivisionError\u001b[0m: float division by zero"
     ]
    }
   ],
   "source": []
  },
  {
   "cell_type": "code",
   "execution_count": null,
   "metadata": {},
   "outputs": [],
   "source": []
  },
  {
   "cell_type": "code",
   "execution_count": null,
   "metadata": {},
   "outputs": [],
   "source": []
  }
 ],
 "metadata": {
  "kernelspec": {
   "display_name": "Python 3",
   "language": "python",
   "name": "python3"
  },
  "language_info": {
   "codemirror_mode": {
    "name": "ipython",
    "version": 3
   },
   "file_extension": ".py",
   "mimetype": "text/x-python",
   "name": "python",
   "nbconvert_exporter": "python",
   "pygments_lexer": "ipython3",
   "version": "3.8.5"
  }
 },
 "nbformat": 4,
 "nbformat_minor": 4
}
