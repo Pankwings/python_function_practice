{
 "cells": [
  {
   "cell_type": "markdown",
   "metadata": {},
   "source": [
    "#### Function within class:\n",
    "Working lock in multiprocess with class and function."
   ]
  },
  {
   "cell_type": "code",
   "execution_count": null,
   "metadata": {},
   "outputs": [],
   "source": []
  },
  {
   "cell_type": "code",
   "execution_count": null,
   "metadata": {},
   "outputs": [],
   "source": []
  },
  {
   "cell_type": "code",
   "execution_count": 13,
   "metadata": {},
   "outputs": [
    {
     "name": "stdout",
     "output_type": "stream",
     "text": [
      "Final Balance [with lock] :  200\n",
      "Final Balance [without Lock] :  202\n",
      "Final Balance [with lock] :  200\n",
      "Final Balance [without Lock] :  214\n",
      "Final Balance [with lock] :  200\n",
      "Final Balance [without Lock] :  206\n",
      "Final Balance [with lock] :  200\n",
      "Final Balance [without Lock] :  200\n",
      "Final Balance [with lock] :  200\n",
      "Final Balance [without Lock] :  200\n"
     ]
    }
   ],
   "source": [
    "import multiprocessing\n",
    "import time\n",
    "\n",
    "class with_lock:\n",
    "    def deposit(balance, lock):\n",
    "        for i in range(100):\n",
    "            time.sleep(0.01)\n",
    "            lock.acquire()\n",
    "            balance.value +=1\n",
    "            lock.release()\n",
    "    \n",
    "    def withdraw(balance, lock):\n",
    "        for i in range(100):\n",
    "            time.sleep(0.01)\n",
    "            lock.acquire()\n",
    "            balance.value-=1\n",
    "            lock.release()\n",
    "\n",
    "class without_lock:\n",
    "    def deposit(balance, lock):\n",
    "        for i in range(100):\n",
    "            time.sleep(0.01)\n",
    "            balance.value+=1\n",
    "            \n",
    "    def withdraw(balance, lock):\n",
    "        for i in range(100):\n",
    "            time.sleep(0.01)\n",
    "            balance.value-=1\n",
    "            \n",
    "    \n",
    "            \n",
    "            \n",
    "if __name__ == \"__main__\":\n",
    "    for i in range(5):\n",
    "        balance = multiprocessing.Value('i', 200)\n",
    "        lock = multiprocessing.Lock()\n",
    "        d_lock = multiprocessing.Process(target=with_lock.deposit, args=(balance, lock))\n",
    "        w_lock = multiprocessing.Process(target=with_lock.withdraw, args=(balance, lock))\n",
    "        d_lock.start()\n",
    "        w_lock.start()\n",
    "        d_lock.join()\n",
    "        w_lock.join()\n",
    "        print(\"Final Balance [with lock] : \", balance.value)\n",
    "        balance = multiprocessing.Value('i', 200)\n",
    "        d = multiprocessing.Process(target=without_lock.deposit, args=(balance, lock))\n",
    "        w = multiprocessing.Process(target=without_lock.withdraw, args=(balance,lock))\n",
    "        d.start()\n",
    "        w.start()\n",
    "        d.join()\n",
    "        w.join()\n",
    "        print(\"Final Balance [without Lock] : \", balance.value)\n"
   ]
  },
  {
   "cell_type": "markdown",
   "metadata": {},
   "source": [
    "#### Lock in multiprocessing"
   ]
  },
  {
   "cell_type": "code",
   "execution_count": 119,
   "metadata": {},
   "outputs": [
    {
     "name": "stdout",
     "output_type": "stream",
     "text": [
      "Final Balance [With Lock] 200\n"
     ]
    }
   ],
   "source": [
    "import multiprocessing\n",
    "import time\n",
    "\n",
    "def deposit(balance, lock):\n",
    "    for i in range(10):\n",
    "        time.sleep(0.01)\n",
    "        lock.acquire()\n",
    "        balance.value+=1\n",
    "        lock.release()\n",
    "def withdraw(balance, lock):\n",
    "    for i in range(10):\n",
    "        time.sleep(0.01)\n",
    "        lock.acquire()\n",
    "        balance.value-=1\n",
    "        lock.release()\n",
    "if __name__ == \"__main__\":\n",
    "    \n",
    "    balance = multiprocessing.Value('i',200)\n",
    "    lock = multiprocessing.Lock()\n",
    "    d = multiprocessing.Process(target=deposit, args=(balance,lock))\n",
    "    w = multiprocessing.Process(target=withdraw, args=(balance,lock))\n",
    "    d.start()\n",
    "    w.start()\n",
    "    d.join()\n",
    "    w.join()\n",
    "    print(\"Final Balance [With Lock]\", balance.value)\n",
    "        "
   ]
  },
  {
   "cell_type": "code",
   "execution_count": 32,
   "metadata": {},
   "outputs": [
    {
     "name": "stdout",
     "output_type": "stream",
     "text": [
      "India\n",
      "Final Balance [Without Lock]: 202\n"
     ]
    }
   ],
   "source": [
    "import multiprocessing\n",
    "import time\n",
    "\n",
    "def deposit(balance):\n",
    "   \n",
    "    for i in range(100):\n",
    "        time.sleep(0.001)\n",
    "    \n",
    "        balance.value+=1\n",
    "       \n",
    "        \n",
    "def widthral(balance):\n",
    "    \n",
    "    for i in range(100):\n",
    "        time.sleep(0.001)\n",
    "        \n",
    "        balance.value-=1\n",
    "        \n",
    "        \n",
    "if __name__ == \"__main__\":\n",
    "    print(\"India\")\n",
    "    balance = multiprocessing.Value('i', 200)\n",
    "    #lock = multiprocessing.Lock()\n",
    "    q = multiprocessing.Queue()\n",
    "    p1 = multiprocessing.Process(target=deposit, args=(balance,))\n",
    "    p2 = multiprocessing.Process(target=widthral, args=(balance,))\n",
    "    p1.start()\n",
    "    p2.start()\n",
    "    p1.join()\n",
    "    p2.join()\n",
    "    \n",
    "    print(\"Final Balance [Without Lock]:\", balance.value)"
   ]
  },
  {
   "cell_type": "markdown",
   "metadata": {},
   "source": [
    "#### Using queue in multiprocessing"
   ]
  },
  {
   "cell_type": "code",
   "execution_count": 20,
   "metadata": {},
   "outputs": [
    {
     "name": "stdout",
     "output_type": "stream",
     "text": [
      "Sharing data between processes using Queue :\n",
      "1\n",
      "9\n",
      "16\n",
      "25\n"
     ]
    }
   ],
   "source": [
    "import multiprocessing\n",
    "\n",
    "def cal_square(numbers, q):\n",
    "    for n in numbers:\n",
    "        q.put(n**2)\n",
    "\n",
    "if __name__ == \"__main__\":\n",
    "    arr = [1, 3, 4, 5]\n",
    "    q = multiprocessing.Queue()\n",
    "    p1 = multiprocessing.Process(target=cal_square, args=(arr, q))\n",
    "    p1.start()\n",
    "    p1.join()\n",
    "    print('Sharing data between processes using Queue :')\n",
    "    while not q.empty():\n",
    "        print(q.get())"
   ]
  },
  {
   "cell_type": "markdown",
   "metadata": {},
   "source": [
    "#### Difference between multithreading and multiprocessing"
   ]
  },
  {
   "cell_type": "code",
   "execution_count": 51,
   "metadata": {},
   "outputs": [
    {
     "name": "stdout",
     "output_type": "stream",
     "text": [
      "Square : 1\n",
      "Square : 4\n",
      "Square : 9\n",
      "Square : 16\n",
      "Square_result : [1, 4, 9, 16]\n",
      "\n",
      "Result outside the function :  []\n"
     ]
    }
   ],
   "source": [
    "# Multiprocessing generated separate process that can be seen in \n",
    "# the task manager where as multithreading don't.\n",
    "\n",
    "# In multiprocessing, global variable's data also get clear after\n",
    "# processing of the process unlike multithreading.\n",
    "\n",
    "import time\n",
    "import multiprocessing\n",
    "\n",
    "square_result = []\n",
    "def cal_square(numbers):\n",
    "    global square_result\n",
    "    for n in numbers:\n",
    "        time.sleep(0.2)\n",
    "        square_result.append(n**2)\n",
    "        print(\"Square : \"+str(n**2))\n",
    "    print(\"Square_result :\", square_result)    \n",
    "        \n",
    "if __name__ == \"__main__\":\n",
    "    t =  time.time()\n",
    "    p1 = multiprocessing.Process(target=cal_square, args=(arr,))\n",
    "    p1.start()\n",
    "    p1.join()\n",
    "    \n",
    "    print(\"\\nResult outside the function : \", square_result)\n",
    "    \n",
    "    '''Reason: Every process has its own address space (virtual memory).\n",
    "     Thus program variables are not shared between two processes.\n",
    "     You need to use interprocess communication (IPC)\n",
    "     techniques if you want to share data between two processes.'''"
   ]
  },
  {
   "cell_type": "markdown",
   "metadata": {},
   "source": [
    "#### Multiprocessing"
   ]
  },
  {
   "cell_type": "code",
   "execution_count": 41,
   "metadata": {},
   "outputs": [
    {
     "name": "stdout",
     "output_type": "stream",
     "text": [
      "Square : 1\n",
      "Square : 1\n",
      "Square : 4Square : 4\n",
      "\n",
      "Square : 9\n",
      "Square : 9\n",
      "Square : 16\n",
      "Square : 16\n",
      "Time :  0.8474338054656982\n"
     ]
    }
   ],
   "source": [
    "#Using multiprocessing using square and cube\n",
    "#source: codebasic; lecture 27\n",
    "\n",
    "import time\n",
    "import multiprocessing\n",
    "\n",
    "def cal_square(numbers):\n",
    "    for n in numbers:\n",
    "        time.sleep(0.2)\n",
    "        print('Square : '+ str(n**2))\n",
    "def cal_cube(numbers):\n",
    "    for n in numbers:\n",
    "        time.sleep(0.2)\n",
    "        print('Cube : ' + str(n**3))\n",
    "\n",
    "if __name__ == '__main__':\n",
    "    arr = [1, 2, 3, 4]\n",
    "    t = time.time()\n",
    "    p1 = multiprocessing.Process(target=cal_square, args=(arr,))\n",
    "    p2 = multiprocessing.Process(target=cal_square, args=(arr,))\n",
    "    p1.start()\n",
    "    p2.start()\n",
    "    p1.join() #join waits the process of execution till its over.\n",
    "    p2.join()\n",
    "    print(\"Time : \", time.time()-t)"
   ]
  },
  {
   "cell_type": "markdown",
   "metadata": {},
   "source": [
    "#### [Mutitreading Introduction](https://www.youtube.com/watch?v=PJ4t2U15ACo&list=PLeo1K3hjS3uv5U-Lmlnucd7gqF-3ehIh0&index=29)"
   ]
  },
  {
   "cell_type": "code",
   "execution_count": 23,
   "metadata": {},
   "outputs": [],
   "source": [
    "### threading and time"
   ]
  },
  {
   "cell_type": "code",
   "execution_count": 24,
   "metadata": {},
   "outputs": [
    {
     "name": "stdout",
     "output_type": "stream",
     "text": [
      "Square of a number\n",
      "Cube of a number\n",
      "Square : 1\n",
      "Cube : 1\n",
      "Square : 4\n",
      "Cube : 8\n",
      "Square : 9\n",
      "Cube : 27\n",
      "Square : 16\n",
      "Cube : 64\n",
      "Time taken :  0.8050744533538818\n"
     ]
    }
   ],
   "source": [
    "import time\n",
    "import threading\n",
    "\n",
    "def cal_square(numbers):\n",
    "    print(\"Square of a number\")\n",
    "    for n in numbers:\n",
    "        time.sleep(0.2)\n",
    "        print(\"Square :\", n**2)\n",
    "def cal_cube(numbers):\n",
    "    print(\"Cube of a number\")\n",
    "    for n in numbers:\n",
    "        time.sleep(0.2)\n",
    "        print(\"Cube :\", n**3)\n",
    "\n",
    "arr = [1, 2, 3, 4]\n",
    "\n",
    "t = time.time()\n",
    "\n",
    "t1 = threading.Thread(target=cal_square, args=(arr,))\n",
    "t2 = threading.Thread(target=cal_cube, args=(arr,))\n",
    "\n",
    "t1.start()\n",
    "t2.start()\n",
    "\n",
    "t1.join()\n",
    "t2.join()\n",
    "\n",
    "# cal_square(arr)\n",
    "# cal_cube(arr)\n",
    "\n",
    "print(\"Time taken : \",time.time()-t)"
   ]
  },
  {
   "cell_type": "markdown",
   "metadata": {},
   "source": [
    "---"
   ]
  },
  {
   "cell_type": "code",
   "execution_count": null,
   "metadata": {},
   "outputs": [],
   "source": [
    "import math as m\n",
    "\n",
    "def res_par(res,cap,freq):\n",
    "    curr = 100 * 10**-9\n",
    "    xc = 1/(2*m.pi*freq*cap)\n",
    "    reac = res*xc/(res+xc)\n",
    "    vo1 = reac * curr\n",
    "    vo2 = vo1*10\n",
    "#    res = (r*(1/2*m.pi*f*c))/(r+(1/2*m.pi*f*c))\n",
    "    print(\"For frequency of :\",freq,\" Hz\")\n",
    "    print(\"\\nParalled reactance = \",reac)\n",
    "    print(\"\\nCapacitive reactance = \",xc)\n",
    "    print(\"\\nVout of pre-amplifier = \",vo1)\n",
    "    print(\"\\nVout of second Stage amplifier = \",vo2)\n",
    "    print(\"-----------------------------------------------------------\\n\")\n",
    "\n",
    "#    return(0)"
   ]
  },
  {
   "cell_type": "code",
   "execution_count": 112,
   "metadata": {},
   "outputs": [
    {
     "name": "stdout",
     "output_type": "stream",
     "text": [
      "For frequency of : 100000  Hz\n",
      "\n",
      "Paralled reactance =  15433.852368902975\n",
      "\n",
      "Capacitive reactance =  15915.494309189537\n",
      "\n",
      "Vout of pre-amplifier =  0.0015433852368902977\n",
      "\n",
      "Vout of second Stage amplifier =  0.015433852368902977\n",
      "-----------------------------------------------------------\n",
      "\n",
      "For frequency of : 10000  Hz\n",
      "\n",
      "Paralled reactance =  121300.7866336865\n",
      "\n",
      "Capacitive reactance =  159154.94309189534\n",
      "\n",
      "Vout of pre-amplifier =  0.01213007866336865\n",
      "\n",
      "Vout of second Stage amplifier =  0.12130078663368651\n",
      "-----------------------------------------------------------\n",
      "\n",
      "For frequency of : 1000  Hz\n",
      "\n",
      "Paralled reactance =  386234.1745698244\n",
      "\n",
      "Capacitive reactance =  1591549.4309189534\n",
      "\n",
      "Vout of pre-amplifier =  0.038623417456982445\n",
      "\n",
      "Vout of second Stage amplifier =  0.38623417456982445\n",
      "-----------------------------------------------------------\n",
      "\n",
      "For frequency of : 100.0  Hz\n",
      "\n",
      "Paralled reactance =  494164.86011903564\n",
      "\n",
      "Capacitive reactance =  15915494.309189534\n",
      "\n",
      "Vout of pre-amplifier =  0.04941648601190357\n",
      "\n",
      "Vout of second Stage amplifier =  0.4941648601190357\n",
      "-----------------------------------------------------------\n",
      "\n",
      "For frequency of : 10.0  Hz\n",
      "\n",
      "Paralled reactance =  508370.9636256827\n",
      "\n",
      "Capacitive reactance =  159154943.09189534\n",
      "\n",
      "Vout of pre-amplifier =  0.05083709636256827\n",
      "\n",
      "Vout of second Stage amplifier =  0.5083709636256827\n",
      "-----------------------------------------------------------\n",
      "\n"
     ]
    }
   ],
   "source": [
    "res_par(res=510000,cap=(100*10**-12),freq=100000) # For frequency of 100kHz\n",
    "res_par(res=510000,cap=(100*10**-12),freq=10*10**3) # For frequency of 10kHz\n",
    "res_par(res=510000,cap=(100*10**-12),freq=1*10**3) # For frequency of 1kHz\n",
    "res_par(res=510000,cap=(100*10**-12),freq=0.1*10**3) # For frequency of 0.1kHz\n",
    "res_par(res=510000,cap=(100*10**-12),freq=0.01*10**3) # For frequency of 0.01kHz"
   ]
  },
  {
   "cell_type": "code",
   "execution_count": 4,
   "metadata": {},
   "outputs": [
    {
     "ename": "ZeroDivisionError",
     "evalue": "float division by zero",
     "output_type": "error",
     "traceback": [
      "\u001b[0;31m---------------------------------------------------------------------------\u001b[0m",
      "\u001b[0;31mZeroDivisionError\u001b[0m                         Traceback (most recent call last)",
      "\u001b[0;32m<ipython-input-4-b77e5a30b1d8>\u001b[0m in \u001b[0;36m<module>\u001b[0;34m\u001b[0m\n\u001b[0;32m----> 1\u001b[0;31m \u001b[0mres_par\u001b[0m\u001b[0;34m(\u001b[0m\u001b[0mres\u001b[0m\u001b[0;34m=\u001b[0m\u001b[0;36m510000\u001b[0m\u001b[0;34m,\u001b[0m\u001b[0mcap\u001b[0m\u001b[0;34m=\u001b[0m\u001b[0;34m(\u001b[0m\u001b[0;36m100\u001b[0m\u001b[0;34m*\u001b[0m\u001b[0;36m10\u001b[0m\u001b[0;34m**\u001b[0m\u001b[0;34m-\u001b[0m\u001b[0;36m12\u001b[0m\u001b[0;34m)\u001b[0m\u001b[0;34m,\u001b[0m\u001b[0mfreq\u001b[0m\u001b[0;34m=\u001b[0m\u001b[0;36m0\u001b[0m\u001b[0;34m)\u001b[0m\u001b[0;34m\u001b[0m\u001b[0;34m\u001b[0m\u001b[0m\n\u001b[0m",
      "\u001b[0;32m<ipython-input-3-e1bf6c1de072>\u001b[0m in \u001b[0;36mres_par\u001b[0;34m(res, cap, freq)\u001b[0m\n\u001b[1;32m      3\u001b[0m \u001b[0;32mdef\u001b[0m \u001b[0mres_par\u001b[0m\u001b[0;34m(\u001b[0m\u001b[0mres\u001b[0m\u001b[0;34m,\u001b[0m\u001b[0mcap\u001b[0m\u001b[0;34m,\u001b[0m\u001b[0mfreq\u001b[0m\u001b[0;34m)\u001b[0m\u001b[0;34m:\u001b[0m\u001b[0;34m\u001b[0m\u001b[0;34m\u001b[0m\u001b[0m\n\u001b[1;32m      4\u001b[0m     \u001b[0mcurr\u001b[0m \u001b[0;34m=\u001b[0m \u001b[0;36m100\u001b[0m \u001b[0;34m*\u001b[0m \u001b[0;36m10\u001b[0m\u001b[0;34m**\u001b[0m\u001b[0;34m-\u001b[0m\u001b[0;36m9\u001b[0m\u001b[0;34m\u001b[0m\u001b[0;34m\u001b[0m\u001b[0m\n\u001b[0;32m----> 5\u001b[0;31m     \u001b[0mxc\u001b[0m \u001b[0;34m=\u001b[0m \u001b[0;36m1\u001b[0m\u001b[0;34m/\u001b[0m\u001b[0;34m(\u001b[0m\u001b[0;36m2\u001b[0m\u001b[0;34m*\u001b[0m\u001b[0mm\u001b[0m\u001b[0;34m.\u001b[0m\u001b[0mpi\u001b[0m\u001b[0;34m*\u001b[0m\u001b[0mfreq\u001b[0m\u001b[0;34m*\u001b[0m\u001b[0mcap\u001b[0m\u001b[0;34m)\u001b[0m\u001b[0;34m\u001b[0m\u001b[0;34m\u001b[0m\u001b[0m\n\u001b[0m\u001b[1;32m      6\u001b[0m     \u001b[0mreac\u001b[0m \u001b[0;34m=\u001b[0m \u001b[0mres\u001b[0m\u001b[0;34m*\u001b[0m\u001b[0mxc\u001b[0m\u001b[0;34m/\u001b[0m\u001b[0;34m(\u001b[0m\u001b[0mres\u001b[0m\u001b[0;34m+\u001b[0m\u001b[0mxc\u001b[0m\u001b[0;34m)\u001b[0m\u001b[0;34m\u001b[0m\u001b[0;34m\u001b[0m\u001b[0m\n\u001b[1;32m      7\u001b[0m     \u001b[0mvo1\u001b[0m \u001b[0;34m=\u001b[0m \u001b[0mreac\u001b[0m \u001b[0;34m*\u001b[0m \u001b[0mcurr\u001b[0m\u001b[0;34m\u001b[0m\u001b[0;34m\u001b[0m\u001b[0m\n",
      "\u001b[0;31mZeroDivisionError\u001b[0m: float division by zero"
     ]
    }
   ],
   "source": []
  },
  {
   "cell_type": "code",
   "execution_count": null,
   "metadata": {},
   "outputs": [],
   "source": []
  },
  {
   "cell_type": "code",
   "execution_count": null,
   "metadata": {},
   "outputs": [],
   "source": []
  }
 ],
 "metadata": {
  "kernelspec": {
   "display_name": "Python 3",
   "language": "python",
   "name": "python3"
  },
  "language_info": {
   "codemirror_mode": {
    "name": "ipython",
    "version": 3
   },
   "file_extension": ".py",
   "mimetype": "text/x-python",
   "name": "python",
   "nbconvert_exporter": "python",
   "pygments_lexer": "ipython3",
   "version": "3.8.5"
  }
 },
 "nbformat": 4,
 "nbformat_minor": 4
}
