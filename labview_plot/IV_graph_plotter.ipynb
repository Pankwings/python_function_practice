{
 "cells": [
  {
   "cell_type": "code",
   "execution_count": 50,
   "metadata": {},
   "outputs": [
    {
     "name": "stdout",
     "output_type": "stream",
     "text": [
      "/home/pankaj/s_meet/python_practice/function_python/labview_plot/data_iv\n",
      "['20210621_1_QT6__UV__ON__137mA__50_Ohm_.dat', '20210621_1_QT6__UV__ON__137mA__50_Ohm__LOG.txt']\n",
      "           S1C1          S1C2          S2C1          S2C2          S3C1  \\\n",
      "0      volts(V)        I(amp)      volts(V)        I(amp)      volts(V)   \n",
      "1   0.000000E+0  1.197478E-11   1.500000E+2   1.380884E-7  -1.500000E+2   \n",
      "2   5.000000E+0   1.153490E-9   1.450000E+2   1.360292E-7  -1.450000E+2   \n",
      "3   1.000000E+1   2.593338E-9   1.400000E+2   1.336948E-7  -1.400000E+2   \n",
      "4   1.500000E+1   4.317495E-9   1.350000E+2   1.311657E-7  -1.350000E+2   \n",
      "..          ...           ...           ...           ...           ...   \n",
      "58          NaN           NaN  -1.350000E+2  -2.717735E-7           NaN   \n",
      "59          NaN           NaN  -1.400000E+2  -2.854549E-7           NaN   \n",
      "60          NaN           NaN  -1.450000E+2  -2.993342E-7           NaN   \n",
      "61          NaN           NaN  -1.500000E+2  -3.133504E-7           NaN   \n",
      "62          NaN           NaN  -1.500000E+2  -3.161916E-7           NaN   \n",
      "\n",
      "            S3C2  Unnamed: 6  \n",
      "0         I(amp)         NaN  \n",
      "1   -3.188460E-7         NaN  \n",
      "2   -3.098003E-7         NaN  \n",
      "3   -3.007145E-7         NaN  \n",
      "4   -2.912130E-7         NaN  \n",
      "..           ...         ...  \n",
      "58           NaN         NaN  \n",
      "59           NaN         NaN  \n",
      "60           NaN         NaN  \n",
      "61           NaN         NaN  \n",
      "62           NaN         NaN  \n",
      "\n",
      "[63 rows x 7 columns]\n"
     ]
    }
   ],
   "source": [
    "import matplotlib.pyplot as plt\n",
    "import pandas as pd\n",
    "import numpy as np\n",
    "from os import walk\n",
    "import os\n",
    "dir_location = os.getcwd()\n",
    "#dir_location = os.path.dirname(__file__) #Not working in Jupyter-notbook (website: urle.me/cY1)\n",
    "location = os.path.join(dir_location, 'data_iv')\n",
    "print(location)\n",
    "for (dirpath, _, filenames) in walk(location):\n",
    "    print(filenames)\n",
    "    data = pd.read_table(r'/home/pankaj/s_meet/python_practice/function_python/labview_plot/data_iv/20210621_1_QT6__UV__ON__137mA__50_Ohm_.dat')\n",
    "    print(pd.DataFrame(data))\n"
   ]
  },
  {
   "cell_type": "code",
   "execution_count": null,
   "metadata": {},
   "outputs": [],
   "source": []
  }
 ],
 "metadata": {
  "kernelspec": {
   "display_name": "Python 3",
   "language": "python",
   "name": "python3"
  },
  "language_info": {
   "codemirror_mode": {
    "name": "ipython",
    "version": 3
   },
   "file_extension": ".py",
   "mimetype": "text/x-python",
   "name": "python",
   "nbconvert_exporter": "python",
   "pygments_lexer": "ipython3",
   "version": "3.8.5"
  }
 },
 "nbformat": 4,
 "nbformat_minor": 4
}
