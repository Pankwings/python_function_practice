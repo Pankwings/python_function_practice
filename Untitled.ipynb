{
 "cells": [
  {
   "cell_type": "code",
   "execution_count": 3,
   "metadata": {},
   "outputs": [],
   "source": [
    "import math as m\n",
    "\n",
    "def res_par(res,cap,freq):\n",
    "    curr = 100 * 10**-9\n",
    "    xc = 1/(2*m.pi*freq*cap)\n",
    "    reac = res*xc/(res+xc)\n",
    "    vo1 = reac * curr\n",
    "    vo2 = vo1*10\n",
    "#    res = (r*(1/2*m.pi*f*c))/(r+(1/2*m.pi*f*c))\n",
    "    print(\"For frequency of :\",freq,\" Hz\")\n",
    "    print(\"\\nParalled reactance = \",reac)\n",
    "    print(\"\\nCapacitive reactance = \",xc)\n",
    "    print(\"\\nVout of pre-amplifier = \",vo1)\n",
    "    print(\"\\nVout of second Stage amplifier = \",vo2)\n",
    "    print(\"-----------------------------------------------------------\\n\")\n",
    "\n",
    "#    return(0)"
   ]
  },
  {
   "cell_type": "code",
   "execution_count": 112,
   "metadata": {},
   "outputs": [
    {
     "name": "stdout",
     "output_type": "stream",
     "text": [
      "For frequency of : 100000  Hz\n",
      "\n",
      "Paralled reactance =  15433.852368902975\n",
      "\n",
      "Capacitive reactance =  15915.494309189537\n",
      "\n",
      "Vout of pre-amplifier =  0.0015433852368902977\n",
      "\n",
      "Vout of second Stage amplifier =  0.015433852368902977\n",
      "-----------------------------------------------------------\n",
      "\n",
      "For frequency of : 10000  Hz\n",
      "\n",
      "Paralled reactance =  121300.7866336865\n",
      "\n",
      "Capacitive reactance =  159154.94309189534\n",
      "\n",
      "Vout of pre-amplifier =  0.01213007866336865\n",
      "\n",
      "Vout of second Stage amplifier =  0.12130078663368651\n",
      "-----------------------------------------------------------\n",
      "\n",
      "For frequency of : 1000  Hz\n",
      "\n",
      "Paralled reactance =  386234.1745698244\n",
      "\n",
      "Capacitive reactance =  1591549.4309189534\n",
      "\n",
      "Vout of pre-amplifier =  0.038623417456982445\n",
      "\n",
      "Vout of second Stage amplifier =  0.38623417456982445\n",
      "-----------------------------------------------------------\n",
      "\n",
      "For frequency of : 100.0  Hz\n",
      "\n",
      "Paralled reactance =  494164.86011903564\n",
      "\n",
      "Capacitive reactance =  15915494.309189534\n",
      "\n",
      "Vout of pre-amplifier =  0.04941648601190357\n",
      "\n",
      "Vout of second Stage amplifier =  0.4941648601190357\n",
      "-----------------------------------------------------------\n",
      "\n",
      "For frequency of : 10.0  Hz\n",
      "\n",
      "Paralled reactance =  508370.9636256827\n",
      "\n",
      "Capacitive reactance =  159154943.09189534\n",
      "\n",
      "Vout of pre-amplifier =  0.05083709636256827\n",
      "\n",
      "Vout of second Stage amplifier =  0.5083709636256827\n",
      "-----------------------------------------------------------\n",
      "\n"
     ]
    }
   ],
   "source": [
    "res_par(res=510000,cap=(100*10**-12),freq=100000) # For frequency of 100kHz\n",
    "res_par(res=510000,cap=(100*10**-12),freq=10*10**3) # For frequency of 10kHz\n",
    "res_par(res=510000,cap=(100*10**-12),freq=1*10**3) # For frequency of 1kHz\n",
    "res_par(res=510000,cap=(100*10**-12),freq=0.1*10**3) # For frequency of 0.1kHz\n",
    "res_par(res=510000,cap=(100*10**-12),freq=0.01*10**3) # For frequency of 0.01kHz"
   ]
  },
  {
   "cell_type": "code",
   "execution_count": 4,
   "metadata": {},
   "outputs": [
    {
     "ename": "ZeroDivisionError",
     "evalue": "float division by zero",
     "output_type": "error",
     "traceback": [
      "\u001b[0;31m---------------------------------------------------------------------------\u001b[0m",
      "\u001b[0;31mZeroDivisionError\u001b[0m                         Traceback (most recent call last)",
      "\u001b[0;32m<ipython-input-4-b77e5a30b1d8>\u001b[0m in \u001b[0;36m<module>\u001b[0;34m\u001b[0m\n\u001b[0;32m----> 1\u001b[0;31m \u001b[0mres_par\u001b[0m\u001b[0;34m(\u001b[0m\u001b[0mres\u001b[0m\u001b[0;34m=\u001b[0m\u001b[0;36m510000\u001b[0m\u001b[0;34m,\u001b[0m\u001b[0mcap\u001b[0m\u001b[0;34m=\u001b[0m\u001b[0;34m(\u001b[0m\u001b[0;36m100\u001b[0m\u001b[0;34m*\u001b[0m\u001b[0;36m10\u001b[0m\u001b[0;34m**\u001b[0m\u001b[0;34m-\u001b[0m\u001b[0;36m12\u001b[0m\u001b[0;34m)\u001b[0m\u001b[0;34m,\u001b[0m\u001b[0mfreq\u001b[0m\u001b[0;34m=\u001b[0m\u001b[0;36m0\u001b[0m\u001b[0;34m)\u001b[0m\u001b[0;34m\u001b[0m\u001b[0;34m\u001b[0m\u001b[0m\n\u001b[0m",
      "\u001b[0;32m<ipython-input-3-e1bf6c1de072>\u001b[0m in \u001b[0;36mres_par\u001b[0;34m(res, cap, freq)\u001b[0m\n\u001b[1;32m      3\u001b[0m \u001b[0;32mdef\u001b[0m \u001b[0mres_par\u001b[0m\u001b[0;34m(\u001b[0m\u001b[0mres\u001b[0m\u001b[0;34m,\u001b[0m\u001b[0mcap\u001b[0m\u001b[0;34m,\u001b[0m\u001b[0mfreq\u001b[0m\u001b[0;34m)\u001b[0m\u001b[0;34m:\u001b[0m\u001b[0;34m\u001b[0m\u001b[0;34m\u001b[0m\u001b[0m\n\u001b[1;32m      4\u001b[0m     \u001b[0mcurr\u001b[0m \u001b[0;34m=\u001b[0m \u001b[0;36m100\u001b[0m \u001b[0;34m*\u001b[0m \u001b[0;36m10\u001b[0m\u001b[0;34m**\u001b[0m\u001b[0;34m-\u001b[0m\u001b[0;36m9\u001b[0m\u001b[0;34m\u001b[0m\u001b[0;34m\u001b[0m\u001b[0m\n\u001b[0;32m----> 5\u001b[0;31m     \u001b[0mxc\u001b[0m \u001b[0;34m=\u001b[0m \u001b[0;36m1\u001b[0m\u001b[0;34m/\u001b[0m\u001b[0;34m(\u001b[0m\u001b[0;36m2\u001b[0m\u001b[0;34m*\u001b[0m\u001b[0mm\u001b[0m\u001b[0;34m.\u001b[0m\u001b[0mpi\u001b[0m\u001b[0;34m*\u001b[0m\u001b[0mfreq\u001b[0m\u001b[0;34m*\u001b[0m\u001b[0mcap\u001b[0m\u001b[0;34m)\u001b[0m\u001b[0;34m\u001b[0m\u001b[0;34m\u001b[0m\u001b[0m\n\u001b[0m\u001b[1;32m      6\u001b[0m     \u001b[0mreac\u001b[0m \u001b[0;34m=\u001b[0m \u001b[0mres\u001b[0m\u001b[0;34m*\u001b[0m\u001b[0mxc\u001b[0m\u001b[0;34m/\u001b[0m\u001b[0;34m(\u001b[0m\u001b[0mres\u001b[0m\u001b[0;34m+\u001b[0m\u001b[0mxc\u001b[0m\u001b[0;34m)\u001b[0m\u001b[0;34m\u001b[0m\u001b[0;34m\u001b[0m\u001b[0m\n\u001b[1;32m      7\u001b[0m     \u001b[0mvo1\u001b[0m \u001b[0;34m=\u001b[0m \u001b[0mreac\u001b[0m \u001b[0;34m*\u001b[0m \u001b[0mcurr\u001b[0m\u001b[0;34m\u001b[0m\u001b[0;34m\u001b[0m\u001b[0m\n",
      "\u001b[0;31mZeroDivisionError\u001b[0m: float division by zero"
     ]
    }
   ],
   "source": []
  },
  {
   "cell_type": "code",
   "execution_count": null,
   "metadata": {},
   "outputs": [],
   "source": []
  },
  {
   "cell_type": "code",
   "execution_count": null,
   "metadata": {},
   "outputs": [],
   "source": []
  }
 ],
 "metadata": {
  "kernelspec": {
   "display_name": "Python 3",
   "language": "python",
   "name": "python3"
  },
  "language_info": {
   "codemirror_mode": {
    "name": "ipython",
    "version": 3
   },
   "file_extension": ".py",
   "mimetype": "text/x-python",
   "name": "python",
   "nbconvert_exporter": "python",
   "pygments_lexer": "ipython3",
   "version": "3.8.5"
  }
 },
 "nbformat": 4,
 "nbformat_minor": 4
}
